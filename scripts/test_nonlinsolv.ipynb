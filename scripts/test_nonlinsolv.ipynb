{
 "cells": [
  {
   "cell_type": "code",
   "execution_count": 1,
   "metadata": {},
   "outputs": [],
   "source": [
    "import pandas as pd\n",
    "import numpy as np\n",
    "import matplotlib.pyplot as plt\n",
    "from bezierv.classes.bezierv import Bezierv\n",
    "from bezierv.algorithms.non_linear_solver import NonLinearSolver"
   ]
  },
  {
   "cell_type": "code",
   "execution_count": 2,
   "metadata": {},
   "outputs": [],
   "source": [
    "np.random.seed(0)\n",
    "x = np.sort(np.random.normal(1, 1, 1000))\n",
    "y = np.sort(np.random.normal(1, 1, 1000))"
   ]
  },
  {
   "cell_type": "code",
   "execution_count": 3,
   "metadata": {},
   "outputs": [],
   "source": [
    "n = 6\n",
    "bezierv_x = Bezierv(n)\n",
    "bezierv_y = Bezierv(n)"
   ]
  },
  {
   "cell_type": "code",
   "execution_count": 4,
   "metadata": {},
   "outputs": [
    {
     "name": "stdout",
     "output_type": "stream",
     "text": [
      "NonLinearSolver [fit]: An exception occurred during model evaluation: Command '['C:\\\\msys64\\\\usr\\\\bin\\\\ipopt.exe', 'C:\\\\Users\\\\esteb\\\\AppData\\\\Local\\\\Temp\\\\tmp6r9y4v_f.pyomo.nl', '-AMPL']' timed out after 61.0 seconds\n",
      "NonLinearSolver [fit]: An exception occurred during model evaluation: Command '['C:\\\\msys64\\\\usr\\\\bin\\\\ipopt.exe', 'C:\\\\Users\\\\esteb\\\\AppData\\\\Local\\\\Temp\\\\tmpv9a7ww5k.pyomo.nl', '-AMPL']' timed out after 61.0 seconds\n"
     ]
    },
    {
     "data": {
      "text/plain": [
       "<bezierv.classes.bezierv.Bezierv at 0x15d7bb4e740>"
      ]
     },
     "execution_count": 4,
     "metadata": {},
     "output_type": "execute_result"
    }
   ],
   "source": [
    "non_linear_solver = NonLinearSolver(bezierv_x, x)\n",
    "non_linear_solver.fit()\n",
    "non_linear_solver = NonLinearSolver(bezierv_y, y)\n",
    "non_linear_solver.fit()"
   ]
  }
 ],
 "metadata": {
  "kernelspec": {
   "display_name": "venv",
   "language": "python",
   "name": "python3"
  },
  "language_info": {
   "codemirror_mode": {
    "name": "ipython",
    "version": 3
   },
   "file_extension": ".py",
   "mimetype": "text/x-python",
   "name": "python",
   "nbconvert_exporter": "python",
   "pygments_lexer": "ipython3",
   "version": "3.10.11"
  }
 },
 "nbformat": 4,
 "nbformat_minor": 2
}
